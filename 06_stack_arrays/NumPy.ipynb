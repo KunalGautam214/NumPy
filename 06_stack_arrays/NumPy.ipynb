{
 "cells": [
  {
   "cell_type": "code",
   "execution_count": 1,
   "id": "aa5e7537-2da1-4110-85c8-6eaa1584cbac",
   "metadata": {},
   "outputs": [],
   "source": [
    "import numpy as np"
   ]
  },
  {
   "cell_type": "code",
   "execution_count": 2,
   "id": "db9298af-5109-4145-8317-5fbca31fe3cc",
   "metadata": {},
   "outputs": [],
   "source": [
    "a = np.fromfunction(lambda x, y: 10 * x + y, (2, 2))"
   ]
  },
  {
   "cell_type": "code",
   "execution_count": 3,
   "id": "9d88c438-d767-4f6f-8797-a82355a02428",
   "metadata": {},
   "outputs": [
    {
     "data": {
      "text/plain": [
       "array([[ 0.,  1.],\n",
       "       [10., 11.]])"
      ]
     },
     "execution_count": 3,
     "metadata": {},
     "output_type": "execute_result"
    }
   ],
   "source": [
    "a"
   ]
  },
  {
   "cell_type": "code",
   "execution_count": 4,
   "id": "143b323e-6847-4161-b6d2-ac912a8cd0d9",
   "metadata": {},
   "outputs": [],
   "source": [
    "b = np.array([[21, 22], \n",
    "              [23, 24]], dtype=np.float64)"
   ]
  },
  {
   "cell_type": "code",
   "execution_count": 5,
   "id": "03fd8370-43ab-4709-bf00-39e4ac29a83f",
   "metadata": {},
   "outputs": [
    {
     "data": {
      "text/plain": [
       "array([[21., 22.],\n",
       "       [23., 24.]])"
      ]
     },
     "execution_count": 5,
     "metadata": {},
     "output_type": "execute_result"
    }
   ],
   "source": [
    "b"
   ]
  },
  {
   "cell_type": "code",
   "execution_count": 6,
   "id": "d8ccced1-fc00-4623-aa0e-39162c52ef44",
   "metadata": {},
   "outputs": [
    {
     "data": {
      "text/plain": [
       "array([[ 0.,  1., 21., 22.],\n",
       "       [10., 11., 23., 24.]])"
      ]
     },
     "execution_count": 6,
     "metadata": {},
     "output_type": "execute_result"
    }
   ],
   "source": [
    "np.hstack((a, b))"
   ]
  },
  {
   "cell_type": "code",
   "execution_count": 7,
   "id": "b133e485-205c-4136-b2b6-8ea53e1d1bab",
   "metadata": {},
   "outputs": [
    {
     "data": {
      "text/plain": [
       "array([[ 0.,  1.],\n",
       "       [10., 11.],\n",
       "       [21., 22.],\n",
       "       [23., 24.]])"
      ]
     },
     "execution_count": 7,
     "metadata": {},
     "output_type": "execute_result"
    }
   ],
   "source": [
    "np.vstack((a, b))"
   ]
  },
  {
   "cell_type": "code",
   "execution_count": 8,
   "id": "ad5d5369-c266-45fd-b461-0730b1492a67",
   "metadata": {},
   "outputs": [
    {
     "data": {
      "text/plain": [
       "array([  1,   2,   3,   4,   5,   6,   7,   8,   9, 101, 102])"
      ]
     },
     "execution_count": 8,
     "metadata": {},
     "output_type": "execute_result"
    }
   ],
   "source": [
    "np.r_[1:10, 101, 102]"
   ]
  },
  {
   "cell_type": "code",
   "execution_count": 9,
   "id": "5fb25561-885e-43d0-801e-5bc6165d49d2",
   "metadata": {},
   "outputs": [
    {
     "data": {
      "text/plain": [
       "array([101, 102,   1,   2,   3,   4,   5,   6,   7,   8,   9])"
      ]
     },
     "execution_count": 9,
     "metadata": {},
     "output_type": "execute_result"
    }
   ],
   "source": [
    "np.r_[101, 102, 1:10]"
   ]
  },
  {
   "cell_type": "code",
   "execution_count": 11,
   "id": "f46b9f25-4e9e-467e-afb4-e18ceb29dbe1",
   "metadata": {},
   "outputs": [
    {
     "data": {
      "text/plain": [
       "array([[  0, 100],\n",
       "       [  1, 101],\n",
       "       [  2, 102],\n",
       "       [  3, 103],\n",
       "       [  4, 104],\n",
       "       [  5, 105],\n",
       "       [  6, 106],\n",
       "       [  7, 107],\n",
       "       [  8, 108],\n",
       "       [  9, 109]])"
      ]
     },
     "execution_count": 11,
     "metadata": {},
     "output_type": "execute_result"
    }
   ],
   "source": [
    "np.c_[0:10, 100:110]"
   ]
  },
  {
   "cell_type": "code",
   "execution_count": 14,
   "id": "7eec0bac-418a-49cd-800b-1d9d00bb8829",
   "metadata": {},
   "outputs": [],
   "source": [
    "c = np.c_[np.array([[1, 2, 3]]), 0, 0, np.array([[10, 11, 12]])]"
   ]
  },
  {
   "cell_type": "code",
   "execution_count": 15,
   "id": "038b9b26-392c-40bf-bb2e-9da3d403915a",
   "metadata": {},
   "outputs": [
    {
     "data": {
      "text/plain": [
       "(1, 8)"
      ]
     },
     "execution_count": 15,
     "metadata": {},
     "output_type": "execute_result"
    }
   ],
   "source": [
    "c.shape"
   ]
  },
  {
   "cell_type": "code",
   "execution_count": 16,
   "id": "13a36591-473b-44b3-9c50-47f27a153bb7",
   "metadata": {},
   "outputs": [
    {
     "data": {
      "text/plain": [
       "array([[ 1,  2,  3,  0,  0, 10, 11, 12]])"
      ]
     },
     "execution_count": 16,
     "metadata": {},
     "output_type": "execute_result"
    }
   ],
   "source": [
    "c"
   ]
  },
  {
   "cell_type": "code",
   "execution_count": 17,
   "id": "3f92cc1c-995f-4fa5-8200-07a60f96e652",
   "metadata": {},
   "outputs": [
    {
     "data": {
      "text/plain": [
       "8"
      ]
     },
     "execution_count": 17,
     "metadata": {},
     "output_type": "execute_result"
    }
   ],
   "source": [
    "c.size"
   ]
  },
  {
   "cell_type": "code",
   "execution_count": null,
   "id": "9acb818d-2531-4f92-86a4-a894535eff5f",
   "metadata": {},
   "outputs": [],
   "source": []
  }
 ],
 "metadata": {
  "kernelspec": {
   "display_name": "Python 3 (ipykernel)",
   "language": "python",
   "name": "python3"
  },
  "language_info": {
   "codemirror_mode": {
    "name": "ipython",
    "version": 3
   },
   "file_extension": ".py",
   "mimetype": "text/x-python",
   "name": "python",
   "nbconvert_exporter": "python",
   "pygments_lexer": "ipython3",
   "version": "3.11.4"
  }
 },
 "nbformat": 4,
 "nbformat_minor": 5
}
