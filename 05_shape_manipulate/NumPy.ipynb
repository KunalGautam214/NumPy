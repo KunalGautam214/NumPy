{
 "cells": [
  {
   "cell_type": "code",
   "execution_count": 1,
   "id": "aa5e7537-2da1-4110-85c8-6eaa1584cbac",
   "metadata": {},
   "outputs": [],
   "source": [
    "import numpy as np"
   ]
  },
  {
   "cell_type": "code",
   "execution_count": 2,
   "id": "db9298af-5109-4145-8317-5fbca31fe3cc",
   "metadata": {},
   "outputs": [],
   "source": [
    "a = np.fromfunction(lambda x, y: 10 * x + y, (3, 4))"
   ]
  },
  {
   "cell_type": "code",
   "execution_count": 3,
   "id": "9dc1dc01-3924-4c5f-b311-3614ece93ca8",
   "metadata": {},
   "outputs": [
    {
     "data": {
      "text/plain": [
       "array([[ 0.,  1.,  2.,  3.],\n",
       "       [10., 11., 12., 13.],\n",
       "       [20., 21., 22., 23.]])"
      ]
     },
     "execution_count": 3,
     "metadata": {},
     "output_type": "execute_result"
    }
   ],
   "source": [
    "a"
   ]
  },
  {
   "cell_type": "code",
   "execution_count": 4,
   "id": "a2f8bab6-9dfb-4eec-b934-f3e2f5d99869",
   "metadata": {},
   "outputs": [
    {
     "data": {
      "text/plain": [
       "(3, 4)"
      ]
     },
     "execution_count": 4,
     "metadata": {},
     "output_type": "execute_result"
    }
   ],
   "source": [
    "a.shape"
   ]
  },
  {
   "cell_type": "code",
   "execution_count": 5,
   "id": "17f02039-4101-4de6-b3b5-950cb60fdba0",
   "metadata": {},
   "outputs": [
    {
     "data": {
      "text/plain": [
       "array([ 0.,  1.,  2.,  3., 10., 11., 12., 13., 20., 21., 22., 23.])"
      ]
     },
     "execution_count": 5,
     "metadata": {},
     "output_type": "execute_result"
    }
   ],
   "source": [
    "a.ravel()"
   ]
  },
  {
   "cell_type": "code",
   "execution_count": 7,
   "id": "75181860-b547-4904-bafc-8ce82d1cf5cf",
   "metadata": {},
   "outputs": [],
   "source": [
    "b = a.reshape(6, 2)"
   ]
  },
  {
   "cell_type": "code",
   "execution_count": 8,
   "id": "4b17ac59-6eef-4956-97c8-a8a75d8744ec",
   "metadata": {},
   "outputs": [
    {
     "data": {
      "text/plain": [
       "array([[ 0.,  1.],\n",
       "       [ 2.,  3.],\n",
       "       [10., 11.],\n",
       "       [12., 13.],\n",
       "       [20., 21.],\n",
       "       [22., 23.]])"
      ]
     },
     "execution_count": 8,
     "metadata": {},
     "output_type": "execute_result"
    }
   ],
   "source": [
    "b"
   ]
  },
  {
   "cell_type": "code",
   "execution_count": 9,
   "id": "549f02a9-f5ca-414a-b657-6af0024da4a8",
   "metadata": {},
   "outputs": [
    {
     "data": {
      "text/plain": [
       "(6, 2)"
      ]
     },
     "execution_count": 9,
     "metadata": {},
     "output_type": "execute_result"
    }
   ],
   "source": [
    "b.shape"
   ]
  },
  {
   "cell_type": "code",
   "execution_count": 10,
   "id": "955f095a-acd8-438f-ac29-5bd5e3d8abd2",
   "metadata": {},
   "outputs": [
    {
     "data": {
      "text/plain": [
       "array([[ 0., 10., 20.],\n",
       "       [ 1., 11., 21.],\n",
       "       [ 2., 12., 22.],\n",
       "       [ 3., 13., 23.]])"
      ]
     },
     "execution_count": 10,
     "metadata": {},
     "output_type": "execute_result"
    }
   ],
   "source": [
    "a.T"
   ]
  },
  {
   "cell_type": "code",
   "execution_count": 23,
   "id": "606bd760-a048-4580-accf-394cc3203579",
   "metadata": {},
   "outputs": [],
   "source": [
    "c = a.reshape(4, -1) # -1 calculate other dimension automatically"
   ]
  },
  {
   "cell_type": "code",
   "execution_count": 14,
   "id": "1a943b88-7c86-45f2-8fcf-73066265484b",
   "metadata": {},
   "outputs": [
    {
     "data": {
      "text/plain": [
       "array([[ 0.,  1.,  2.],\n",
       "       [ 3., 10., 11.],\n",
       "       [12., 13., 20.],\n",
       "       [21., 22., 23.]])"
      ]
     },
     "execution_count": 14,
     "metadata": {},
     "output_type": "execute_result"
    }
   ],
   "source": [
    "c"
   ]
  },
  {
   "cell_type": "code",
   "execution_count": 15,
   "id": "c7be6d69-9779-47d0-a941-9dcdb2b723e0",
   "metadata": {},
   "outputs": [],
   "source": [
    "a.resize(6, 2)"
   ]
  },
  {
   "cell_type": "code",
   "execution_count": 16,
   "id": "a5fa5ae1-8af1-4d5d-951a-e7442fb276bb",
   "metadata": {},
   "outputs": [
    {
     "data": {
      "text/plain": [
       "array([[ 0.,  1.],\n",
       "       [ 2.,  3.],\n",
       "       [10., 11.],\n",
       "       [12., 13.],\n",
       "       [20., 21.],\n",
       "       [22., 23.]])"
      ]
     },
     "execution_count": 16,
     "metadata": {},
     "output_type": "execute_result"
    }
   ],
   "source": [
    "a"
   ]
  },
  {
   "cell_type": "code",
   "execution_count": 17,
   "id": "41a22bc3-5699-4a44-b2cb-1208ef0a8ee8",
   "metadata": {},
   "outputs": [
    {
     "data": {
      "text/plain": [
       "(6, 2)"
      ]
     },
     "execution_count": 17,
     "metadata": {},
     "output_type": "execute_result"
    }
   ],
   "source": [
    "a.shape"
   ]
  },
  {
   "cell_type": "code",
   "execution_count": 24,
   "id": "20314ae3-2cde-431b-8947-4c9469ce5da4",
   "metadata": {},
   "outputs": [],
   "source": [
    "a.resize(3, 4) # inline array dimension changes"
   ]
  },
  {
   "cell_type": "code",
   "execution_count": 19,
   "id": "9e258bbd-b274-44b2-895f-306f3d61be17",
   "metadata": {},
   "outputs": [
    {
     "data": {
      "text/plain": [
       "(3, 4)"
      ]
     },
     "execution_count": 19,
     "metadata": {},
     "output_type": "execute_result"
    }
   ],
   "source": [
    "a.shape"
   ]
  },
  {
   "cell_type": "code",
   "execution_count": 20,
   "id": "5b4c6190-99e2-4094-81e1-c91457bbe528",
   "metadata": {},
   "outputs": [
    {
     "data": {
      "text/plain": [
       "array([[ 0.,  1.,  2.,  3.],\n",
       "       [10., 11., 12., 13.],\n",
       "       [20., 21., 22., 23.]])"
      ]
     },
     "execution_count": 20,
     "metadata": {},
     "output_type": "execute_result"
    }
   ],
   "source": [
    "a"
   ]
  },
  {
   "cell_type": "code",
   "execution_count": 21,
   "id": "fed751b8-5ddd-41a5-b3b9-1d076b39686a",
   "metadata": {},
   "outputs": [
    {
     "data": {
      "text/plain": [
       "[array([[ 0.,  1.],\n",
       "        [10., 11.],\n",
       "        [20., 21.]]),\n",
       " array([[ 2.,  3.],\n",
       "        [12., 13.],\n",
       "        [22., 23.]])]"
      ]
     },
     "execution_count": 21,
     "metadata": {},
     "output_type": "execute_result"
    }
   ],
   "source": [
    "np.hsplit(a, 2)"
   ]
  },
  {
   "cell_type": "code",
   "execution_count": 22,
   "id": "1f12bda5-1ea2-4a8b-8640-d297e8edf67c",
   "metadata": {},
   "outputs": [
    {
     "data": {
      "text/plain": [
       "[array([[0., 1., 2., 3.]]),\n",
       " array([[10., 11., 12., 13.]]),\n",
       " array([[20., 21., 22., 23.]])]"
      ]
     },
     "execution_count": 22,
     "metadata": {},
     "output_type": "execute_result"
    }
   ],
   "source": [
    "np.vsplit(a, 3)"
   ]
  },
  {
   "cell_type": "code",
   "execution_count": null,
   "id": "537c5c85-37fc-40b6-8505-d39ce4fac522",
   "metadata": {},
   "outputs": [],
   "source": []
  }
 ],
 "metadata": {
  "kernelspec": {
   "display_name": "Python 3 (ipykernel)",
   "language": "python",
   "name": "python3"
  },
  "language_info": {
   "codemirror_mode": {
    "name": "ipython",
    "version": 3
   },
   "file_extension": ".py",
   "mimetype": "text/x-python",
   "name": "python",
   "nbconvert_exporter": "python",
   "pygments_lexer": "ipython3",
   "version": "3.11.4"
  }
 },
 "nbformat": 4,
 "nbformat_minor": 5
}
